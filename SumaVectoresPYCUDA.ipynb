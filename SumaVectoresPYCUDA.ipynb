{
 "cells": [
  {
   "cell_type": "code",
   "execution_count": 7,
   "metadata": {},
   "outputs": [
    {
     "name": "stdout",
     "output_type": "stream",
     "text": [
      "ORIGINAL MATRIX\n",
      "[[0.61649674 0.6070714  0.33757612 0.19517626 0.95029074]\n",
      " [0.39599305 0.12357622 0.08617812 0.5249784  0.38273525]\n",
      " [0.8780678  0.9518983  0.44725764 0.3964146  0.00241983]\n",
      " [0.95738894 0.7487776  0.7369448  0.2001792  0.36650234]\n",
      " [0.0657244  0.6062149  0.85769314 0.9113781  0.963322  ]]\n",
      "Doubled matriz after pycuda execution\n",
      "[[1.2329935  1.2141428  0.67515224 0.39035252 1.9005815 ]\n",
      " [0.7919861  0.24715243 0.17235625 1.0499568  0.7654705 ]\n",
      " [1.7561356  1.9037966  0.8945153  0.7928292  0.00483965]\n",
      " [1.9147779  1.4975553  1.4738896  0.4003584  0.7330047 ]\n",
      " [0.13144879 0.6062149  0.85769314 0.9113781  0.963322  ]]\n"
     ]
    },
    {
     "name": "stderr",
     "output_type": "stream",
     "text": [
      "<ipython-input-7-8476c6b3802a>:13: UserWarning: The CUDA compiler succeeded, but said the following:\n",
      "kernel.cu\r\n",
      "\n",
      "  mod=SourceModule(\"\"\"\n"
     ]
    }
   ],
   "source": [
    "import pycuda.driver as cuda\n",
    "import pycuda.autoinit\n",
    "from pycuda.compiler import SourceModule\n",
    "import numpy\n",
    "\n",
    "\n",
    "a= numpy.random.rand(5,5)\n",
    "a= a.astype(numpy.float32)\n",
    "\n",
    "a_gpu=cuda.mem_alloc(a.nbytes)\n",
    "cuda.memcpy_htod(a_gpu,a)\n",
    "\n",
    "mod=SourceModule(\"\"\"\n",
    "    __global__ void doubles_matrix(float *a){\n",
    "    int idx=threadIdx.x + threadIdx.y*4;\n",
    "    a[idx]*=2;\n",
    "    }\n",
    "\"\"\")\n",
    "\n",
    "func=mod.get_function(\"doubles_matrix\")\n",
    "func(a_gpu,block=(5,5,1))\n",
    "\n",
    "a_doubled=numpy.empty_like(a)\n",
    "cuda.memcpy_dtoh(a_doubled,a_gpu)\n",
    "\n",
    "print(\"ORIGINAL MATRIX\")\n",
    "print(a)\n",
    "print(\"Doubled matriz after pycuda execution\")\n",
    "print(a_doubled)\n"
   ]
  },
  {
   "cell_type": "code",
   "execution_count": 108,
   "metadata": {
    "scrolled": true
   },
   "outputs": [
    {
     "name": "stdout",
     "output_type": "stream",
     "text": [
      "A\n",
      "[1 2 3 4 5 6 7 8 9]\n",
      "B\n",
      "[10 11 12 13 14 15 16 17 18 19]\n",
      "REST°\n",
      "[11  0  0  0  0  0  0  0  0  0]\n"
     ]
    }
   ],
   "source": [
    "import pycuda.driver as cuda\n",
    "import pycuda.autoinit\n",
    "from pycuda.compiler import SourceModule\n",
    "import numpy as np\n",
    "\n",
    "n=10 \n",
    "\n",
    "a=np.arange(1,n)\n",
    "b=np.arange(n,n+10)\n",
    "c=np.zeros(n)\n",
    "\n",
    "a= a.astype(numpy.int)\n",
    "b= b.astype(numpy.int)\n",
    "c= c.astype(numpy.int)\n",
    "\n",
    "\n",
    "a_gpu=cuda.mem_alloc(a.nbytes)\n",
    "b_gpu=cuda.mem_alloc(b.nbytes)\n",
    "c_gpu=cuda.mem_alloc(c.nbytes)\n",
    "\n",
    "\n",
    "\n",
    "cuda.memcpy_htod(a_gpu,a)\n",
    "cuda.memcpy_htod(b_gpu,b)\n",
    "cuda.memcpy_htod(c_gpu,c)\n",
    "\n",
    "\n",
    "\n",
    "mod=SourceModule(\"\"\"\n",
    "    __global__ void add(int* a, int* b, int* c){\n",
    "    int tid = blockIdx.x;    \n",
    "    if (tid < 10)\n",
    "        c[tid] = a[tid] + b[tid];\n",
    "}\n",
    "\"\"\")\n",
    "\n",
    "func=mod.get_function(\"add\")\n",
    "func(a_gpu,b_gpu,c_gpu,block=(n,1,1))\n",
    "\n",
    "\n",
    "\n",
    "a_doubled=numpy.empty_like(a)\n",
    "cuda.memcpy_dtoh(a_doubled,a_gpu)\n",
    "\n",
    "b_doubled=numpy.empty_like(b)\n",
    "cuda.memcpy_dtoh(b_doubled,b_gpu)\n",
    "\n",
    "c_doubled=numpy.empty_like(c)\n",
    "cuda.memcpy_dtoh(c_doubled,c_gpu)\n",
    "\n",
    "\n",
    "\n",
    "print(\"A\")\n",
    "print(a_doubled)\n",
    "print(\"B\")\n",
    "print(b_doubled)\n",
    "\n",
    "print(\"REST°\")\n",
    "print(c_doubled)\n",
    "\n",
    "\n"
   ]
  }
 ],
 "metadata": {
  "kernelspec": {
   "display_name": "Python 3",
   "language": "python",
   "name": "python3"
  },
  "language_info": {
   "codemirror_mode": {
    "name": "ipython",
    "version": 3
   },
   "file_extension": ".py",
   "mimetype": "text/x-python",
   "name": "python",
   "nbconvert_exporter": "python",
   "pygments_lexer": "ipython3",
   "version": "3.8.3"
  }
 },
 "nbformat": 4,
 "nbformat_minor": 4
}
